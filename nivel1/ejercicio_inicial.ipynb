{
 "cells": [
  {
   "cell_type": "markdown",
   "metadata": {},
   "source": [
    "# Ejercicio de lectura\n",
    "\n",
    "El siguiente es el programa completo en Python presentado en la sección anterior. Dependiendo de la configuración del servidor en la que usted esté leyendo este texto, usted podría tener la opción de ejecutar y editar el programa.\n",
    "\n"
   ]
  },
  {
   "cell_type": "code",
   "execution_count": 7,
   "metadata": {
    "ExecuteTime": {
     "end_time": "2019-07-19T19:30:14.346501Z",
     "start_time": "2019-07-19T19:30:11.363713Z"
    }
   },
   "outputs": [
    {
     "name": "stdout",
     "output_type": "stream",
     "text": [
      "Indique la longitud del primer cateto: 3\n",
      "Indique la longitud del segundo cateto: 4\n",
      "El perímetro de un triángulo rectángulo que tenga catetos de longitud 3.0 y 4.0 es 12.0\n"
     ]
    }
   ],
   "source": [
    "# Este programa está escrito en el archivo perimetro.py\n",
    "\n",
    "\n",
    "def perimetro_triangulo(cateto1: float, cateto2: float) -> float:\n",
    "    \"\"\"\n",
    "    Esta función calcula el perímetro de un triángulo rectángulo\n",
    "    dada la longitud de sus dos catetos\n",
    "    Parámetros:\n",
    "      cateto1 (float): la longitud del primer cateto del triángulo\n",
    "      cateto2 (float): la longitud del segundo cateto del triángulo\n",
    "    Retorno\n",
    "      (float): la longitud del perímetro del triángulo\n",
    "    \"\"\"\n",
    "    # Usar la función calcular_hip para calcular la longitud del lado faltante\n",
    "    hipotenusa = calcular_hip(cateto1, cateto2)\n",
    "\n",
    "    # Sumar los tres lados y convertirlos en la respuesta de la función\n",
    "    return cateto1 + cateto2 + hipotenusa\n",
    "\n",
    "\n",
    "def calcular_hip(cateto1: float, cateto2: float) -> float:\n",
    "    \"\"\"\n",
    "    Esta función calcula la longitud de la hipotenusa en un triángulo rectángulo\n",
    "    dada la longitud de sus dos catetos\n",
    "    Parámetros:\n",
    "      cateto1 (float): la longitud del primer cateto del triángulo\n",
    "      cateto2 (float): la longitud del segundo cateto del triángulo\n",
    "    Retorno\n",
    "      (float): la longitud de la hipotenusa\n",
    "    \"\"\"\n",
    "    # Sumar la longitud de los catetos elevados al cuadrado\n",
    "    suma_cuadrados = (cateto1**2) + (cateto2**2)\n",
    "\n",
    "    # Calcular la raiz cuadrada de la suma usando la función pow y el exponente 0.5\n",
    "    hipotenusa = pow(suma_cuadrados, 0.5)\n",
    "    return hipotenusa\n",
    "\n",
    "\n",
    "# Solicitarle al usuario la longitud de los dos catetos\n",
    "cadena_cat_1 = input(\"Indique la longitud del primer cateto: \")\n",
    "cadena_cat_2 = input(\"Indique la longitud del segundo cateto: \")\n",
    "\n",
    "# Convertir los caracteres dados por el usuario en un número decimal\n",
    "cat_1 = float(cadena_cat_1)\n",
    "cat_2 = float(cadena_cat_2)\n",
    "\n",
    "# Llamar a la función con los valores recibidos\n",
    "perimetro = perimetro_triangulo(3, 4)\n",
    "\n",
    "# Mostrarle al usuario el resultado de la operación\n",
    "print(\"El perímetro de un triángulo rectángulo que tenga catetos de longitud\",\n",
    "      cat_1, \"y\", cat_2, \"es\", perimetro)"
   ]
  }
 ],
 "metadata": {
  "kernelspec": {
   "display_name": "Python 3",
   "language": "python",
   "name": "python3"
  },
  "language_info": {
   "codemirror_mode": {
    "name": "ipython",
    "version": 3
   },
   "file_extension": ".py",
   "mimetype": "text/x-python",
   "name": "python",
   "nbconvert_exporter": "python",
   "pygments_lexer": "ipython3",
   "version": "3.6.3"
  },
  "toc": {
   "base_numbering": 1,
   "nav_menu": {},
   "number_sections": true,
   "sideBar": true,
   "skip_h1_title": false,
   "title_cell": "Table of Contents",
   "title_sidebar": "Contents",
   "toc_cell": false,
   "toc_position": {},
   "toc_section_display": true,
   "toc_window_display": false
  },
  "varInspector": {
   "cols": {
    "lenName": 16,
    "lenType": 16,
    "lenVar": 40
   },
   "kernels_config": {
    "python": {
     "delete_cmd_postfix": "",
     "delete_cmd_prefix": "del ",
     "library": "var_list.py",
     "varRefreshCmd": "print(var_dic_list())"
    },
    "r": {
     "delete_cmd_postfix": ") ",
     "delete_cmd_prefix": "rm(",
     "library": "var_list.r",
     "varRefreshCmd": "cat(var_dic_list()) "
    }
   },
   "types_to_exclude": [
    "module",
    "function",
    "builtin_function_or_method",
    "instance",
    "_Feature"
   ],
   "window_display": false
  }
 },
 "nbformat": 4,
 "nbformat_minor": 2
}
